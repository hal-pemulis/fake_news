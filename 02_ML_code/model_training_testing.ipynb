{
 "cells": [
  {
   "cell_type": "markdown",
   "metadata": {},
   "source": [
    "# Training and testing a model to determine real vs. fake headlines"
   ]
  },
  {
   "cell_type": "markdown",
   "metadata": {},
   "source": [
    "Reference: https://www.datacamp.com/community/tutorials/scikit-learn-fake-news\n",
    "; https://s3.amazonaws.com/assets.datacamp.com/production/course_5064/slides/chapter4.pdf"
   ]
  },
  {
   "cell_type": "code",
   "execution_count": 1,
   "metadata": {},
   "outputs": [],
   "source": [
    "import warnings\n",
    "warnings.filterwarnings('ignore')"
   ]
  },
  {
   "cell_type": "code",
   "execution_count": 2,
   "metadata": {},
   "outputs": [],
   "source": [
    "# Import basic libraries\n",
    "import matplotlib.pyplot as plt\n",
    "import numpy as np\n",
    "import pandas as pd\n",
    "import gzip"
   ]
  },
  {
   "cell_type": "markdown",
   "metadata": {},
   "source": [
    "# Read in dataset(s)"
   ]
  },
  {
   "cell_type": "code",
   "execution_count": 32,
   "metadata": {},
   "outputs": [
    {
     "data": {
      "text/html": [
       "<div>\n",
       "<style scoped>\n",
       "    .dataframe tbody tr th:only-of-type {\n",
       "        vertical-align: middle;\n",
       "    }\n",
       "\n",
       "    .dataframe tbody tr th {\n",
       "        vertical-align: top;\n",
       "    }\n",
       "\n",
       "    .dataframe thead th {\n",
       "        text-align: right;\n",
       "    }\n",
       "</style>\n",
       "<table border=\"1\" class=\"dataframe\">\n",
       "  <thead>\n",
       "    <tr style=\"text-align: right;\">\n",
       "      <th></th>\n",
       "      <th>Unnamed: 0</th>\n",
       "      <th>title</th>\n",
       "      <th>text</th>\n",
       "      <th>label</th>\n",
       "    </tr>\n",
       "  </thead>\n",
       "  <tbody>\n",
       "    <tr>\n",
       "      <th>0</th>\n",
       "      <td>8476</td>\n",
       "      <td>You Can Smell Hillary’s Fear</td>\n",
       "      <td>Daniel Greenfield, a Shillman Journalism Fello...</td>\n",
       "      <td>FAKE</td>\n",
       "    </tr>\n",
       "    <tr>\n",
       "      <th>1</th>\n",
       "      <td>10294</td>\n",
       "      <td>Watch The Exact Moment Paul Ryan Committed Pol...</td>\n",
       "      <td>Google Pinterest Digg Linkedin Reddit Stumbleu...</td>\n",
       "      <td>FAKE</td>\n",
       "    </tr>\n",
       "    <tr>\n",
       "      <th>2</th>\n",
       "      <td>3608</td>\n",
       "      <td>Kerry to go to Paris in gesture of sympathy</td>\n",
       "      <td>U.S. Secretary of State John F. Kerry said Mon...</td>\n",
       "      <td>REAL</td>\n",
       "    </tr>\n",
       "    <tr>\n",
       "      <th>3</th>\n",
       "      <td>10142</td>\n",
       "      <td>Bernie supporters on Twitter erupt in anger ag...</td>\n",
       "      <td>— Kaydee King (@KaydeeKing) November 9, 2016 T...</td>\n",
       "      <td>FAKE</td>\n",
       "    </tr>\n",
       "    <tr>\n",
       "      <th>4</th>\n",
       "      <td>875</td>\n",
       "      <td>The Battle of New York: Why This Primary Matters</td>\n",
       "      <td>It's primary day in New York and front-runners...</td>\n",
       "      <td>REAL</td>\n",
       "    </tr>\n",
       "  </tbody>\n",
       "</table>\n",
       "</div>"
      ],
      "text/plain": [
       "   Unnamed: 0                                              title  \\\n",
       "0        8476                       You Can Smell Hillary’s Fear   \n",
       "1       10294  Watch The Exact Moment Paul Ryan Committed Pol...   \n",
       "2        3608        Kerry to go to Paris in gesture of sympathy   \n",
       "3       10142  Bernie supporters on Twitter erupt in anger ag...   \n",
       "4         875   The Battle of New York: Why This Primary Matters   \n",
       "\n",
       "                                                text label  \n",
       "0  Daniel Greenfield, a Shillman Journalism Fello...  FAKE  \n",
       "1  Google Pinterest Digg Linkedin Reddit Stumbleu...  FAKE  \n",
       "2  U.S. Secretary of State John F. Kerry said Mon...  REAL  \n",
       "3  — Kaydee King (@KaydeeKing) November 9, 2016 T...  FAKE  \n",
       "4  It's primary day in New York and front-runners...  REAL  "
      ]
     },
     "execution_count": 32,
     "metadata": {},
     "output_type": "execute_result"
    }
   ],
   "source": [
    "test_df = pd.DataFrame(pd.read_csv('../00_Resources/fake_or_real_news.csv'))\n",
    "test_df.head()"
   ]
  },
  {
   "cell_type": "code",
   "execution_count": 5,
   "metadata": {},
   "outputs": [
    {
     "data": {
      "text/html": [
       "<div>\n",
       "<style scoped>\n",
       "    .dataframe tbody tr th:only-of-type {\n",
       "        vertical-align: middle;\n",
       "    }\n",
       "\n",
       "    .dataframe tbody tr th {\n",
       "        vertical-align: top;\n",
       "    }\n",
       "\n",
       "    .dataframe thead th {\n",
       "        text-align: right;\n",
       "    }\n",
       "</style>\n",
       "<table border=\"1\" class=\"dataframe\">\n",
       "  <thead>\n",
       "    <tr style=\"text-align: right;\">\n",
       "      <th></th>\n",
       "      <th>title</th>\n",
       "      <th>text</th>\n",
       "      <th>subject</th>\n",
       "      <th>date</th>\n",
       "      <th>category</th>\n",
       "    </tr>\n",
       "  </thead>\n",
       "  <tbody>\n",
       "    <tr>\n",
       "      <th>0</th>\n",
       "      <td>Britain will honour commitments made to EU - M...</td>\n",
       "      <td>LONDON (Reuters) - Britain will honour its com...</td>\n",
       "      <td>worldnews</td>\n",
       "      <td>November 21, 2017</td>\n",
       "      <td>True</td>\n",
       "    </tr>\n",
       "    <tr>\n",
       "      <th>1</th>\n",
       "      <td>Cruz campaign vetting Fiorina as a possible VP...</td>\n",
       "      <td>WASHINGTON (Reuters) - U.S. Republican preside...</td>\n",
       "      <td>politicsNews</td>\n",
       "      <td>April 25, 2016</td>\n",
       "      <td>True</td>\n",
       "    </tr>\n",
       "    <tr>\n",
       "      <th>2</th>\n",
       "      <td>MAINSTREAM MEDIA IGNORES MASSIVE PROTEST Again...</td>\n",
       "      <td>Wait we thought Obama and the Democrats were s...</td>\n",
       "      <td>left-news</td>\n",
       "      <td>Oct 13, 2015</td>\n",
       "      <td>False</td>\n",
       "    </tr>\n",
       "    <tr>\n",
       "      <th>3</th>\n",
       "      <td>Trump supports Republican tax overhaul bill: a...</td>\n",
       "      <td>WASHINGTON (Reuters) - U.S. President Donald T...</td>\n",
       "      <td>politicsNews</td>\n",
       "      <td>November 2, 2017</td>\n",
       "      <td>True</td>\n",
       "    </tr>\n",
       "    <tr>\n",
       "      <th>4</th>\n",
       "      <td>LOL! HILLARY Commends Weinstein Accusers For C...</td>\n",
       "      <td>Hillary Clinton today falsely called Donald Tr...</td>\n",
       "      <td>left-news</td>\n",
       "      <td>Oct 13, 2017</td>\n",
       "      <td>False</td>\n",
       "    </tr>\n",
       "    <tr>\n",
       "      <th>...</th>\n",
       "      <td>...</td>\n",
       "      <td>...</td>\n",
       "      <td>...</td>\n",
       "      <td>...</td>\n",
       "      <td>...</td>\n",
       "    </tr>\n",
       "    <tr>\n",
       "      <th>44893</th>\n",
       "      <td>Somalia's peacekeeping mission could be hurt b...</td>\n",
       "      <td>MOGADISHU (Reuters) - The African Union s plan...</td>\n",
       "      <td>worldnews</td>\n",
       "      <td>December 4, 2017</td>\n",
       "      <td>True</td>\n",
       "    </tr>\n",
       "    <tr>\n",
       "      <th>44894</th>\n",
       "      <td>Republican Party chairman calls meeting with T...</td>\n",
       "      <td>WASHINGTON (Reuters) - U.S. Republican Nationa...</td>\n",
       "      <td>politicsNews</td>\n",
       "      <td>May 12, 2016</td>\n",
       "      <td>True</td>\n",
       "    </tr>\n",
       "    <tr>\n",
       "      <th>44895</th>\n",
       "      <td>Israel approves 176 new settler homes in East ...</td>\n",
       "      <td>JERUSALEM (Reuters) - Israeli authorities appr...</td>\n",
       "      <td>worldnews</td>\n",
       "      <td>October 25, 2017</td>\n",
       "      <td>True</td>\n",
       "    </tr>\n",
       "    <tr>\n",
       "      <th>44896</th>\n",
       "      <td>U.S. court to hold hearing Monday on who will ...</td>\n",
       "      <td>WASHINGTON (Reuters) - A federal court in the ...</td>\n",
       "      <td>politicsNews</td>\n",
       "      <td>November 27, 2017</td>\n",
       "      <td>True</td>\n",
       "    </tr>\n",
       "    <tr>\n",
       "      <th>44897</th>\n",
       "      <td>Great Video! Muslim Invasion Of The West In Pr...</td>\n",
       "      <td>If you haven t been paying attention then you ...</td>\n",
       "      <td>Government News</td>\n",
       "      <td>Sep 14, 2015</td>\n",
       "      <td>False</td>\n",
       "    </tr>\n",
       "  </tbody>\n",
       "</table>\n",
       "<p>44898 rows × 5 columns</p>\n",
       "</div>"
      ],
      "text/plain": [
       "                                                   title  \\\n",
       "0      Britain will honour commitments made to EU - M...   \n",
       "1      Cruz campaign vetting Fiorina as a possible VP...   \n",
       "2      MAINSTREAM MEDIA IGNORES MASSIVE PROTEST Again...   \n",
       "3      Trump supports Republican tax overhaul bill: a...   \n",
       "4      LOL! HILLARY Commends Weinstein Accusers For C...   \n",
       "...                                                  ...   \n",
       "44893  Somalia's peacekeeping mission could be hurt b...   \n",
       "44894  Republican Party chairman calls meeting with T...   \n",
       "44895  Israel approves 176 new settler homes in East ...   \n",
       "44896  U.S. court to hold hearing Monday on who will ...   \n",
       "44897  Great Video! Muslim Invasion Of The West In Pr...   \n",
       "\n",
       "                                                    text          subject  \\\n",
       "0      LONDON (Reuters) - Britain will honour its com...        worldnews   \n",
       "1      WASHINGTON (Reuters) - U.S. Republican preside...     politicsNews   \n",
       "2      Wait we thought Obama and the Democrats were s...        left-news   \n",
       "3      WASHINGTON (Reuters) - U.S. President Donald T...     politicsNews   \n",
       "4      Hillary Clinton today falsely called Donald Tr...        left-news   \n",
       "...                                                  ...              ...   \n",
       "44893  MOGADISHU (Reuters) - The African Union s plan...        worldnews   \n",
       "44894  WASHINGTON (Reuters) - U.S. Republican Nationa...     politicsNews   \n",
       "44895  JERUSALEM (Reuters) - Israeli authorities appr...        worldnews   \n",
       "44896  WASHINGTON (Reuters) - A federal court in the ...     politicsNews   \n",
       "44897  If you haven t been paying attention then you ...  Government News   \n",
       "\n",
       "                     date  category  \n",
       "0      November 21, 2017       True  \n",
       "1         April 25, 2016       True  \n",
       "2            Oct 13, 2015     False  \n",
       "3       November 2, 2017       True  \n",
       "4            Oct 13, 2017     False  \n",
       "...                   ...       ...  \n",
       "44893   December 4, 2017       True  \n",
       "44894       May 12, 2016       True  \n",
       "44895   October 25, 2017       True  \n",
       "44896  November 27, 2017       True  \n",
       "44897        Sep 14, 2015     False  \n",
       "\n",
       "[44898 rows x 5 columns]"
      ]
     },
     "execution_count": 5,
     "metadata": {},
     "output_type": "execute_result"
    }
   ],
   "source": [
    "with open('../00_Resources/true_fake.csv', 'rb') as fd:\n",
    "    gzip_fd = gzip.GzipFile(fileobj=fd)\n",
    "    df = pd.read_csv(gzip_fd)\n",
    "df = df.drop(columns={'Unnamed: 0'})\n",
    "df = df.sample(frac=1).reset_index(drop=True)\n",
    "df"
   ]
  },
  {
   "cell_type": "markdown",
   "metadata": {},
   "source": [
    "# Set X and y and split"
   ]
  },
  {
   "cell_type": "code",
   "execution_count": 6,
   "metadata": {},
   "outputs": [],
   "source": [
    "# ML libraries\n",
    "from sklearn.pipeline import make_pipeline\n",
    "from sklearn.linear_model import LinearRegression, ElasticNet, Ridge, Lasso\n",
    "from sklearn.model_selection import train_test_split\n",
    "from sklearn.preprocessing import StandardScaler, OneHotEncoder"
   ]
  },
  {
   "cell_type": "code",
   "execution_count": 7,
   "metadata": {},
   "outputs": [],
   "source": [
    "# TODO: find out how to CountVectorize a multi-dimensional array.\n",
    "\n",
    "# Drop the `label` column\n",
    "X = df['title']\n",
    "y = df['category']"
   ]
  },
  {
   "cell_type": "code",
   "execution_count": 8,
   "metadata": {},
   "outputs": [
    {
     "name": "stdout",
     "output_type": "stream",
     "text": [
      "(44898,) (44898,)\n"
     ]
    }
   ],
   "source": [
    "# Split the data into training and testing\n",
    "from sklearn.model_selection import train_test_split\n",
    "\n",
    "X_train, X_test, y_train, y_test = train_test_split(X, y, test_size=0.33, random_state=42)\n",
    "\n",
    "print(X.shape, y.shape)"
   ]
  },
  {
   "cell_type": "code",
   "execution_count": 11,
   "metadata": {},
   "outputs": [
    {
     "data": {
      "text/plain": [
       "<14817x18269 sparse matrix of type '<class 'numpy.int64'>'\n",
       "\twith 129647 stored elements in Compressed Sparse Row format>"
      ]
     },
     "execution_count": 11,
     "metadata": {},
     "output_type": "execute_result"
    }
   ],
   "source": [
    "# This cell is a test \n",
    "from sklearn.feature_extraction.text import CountVectorizer\n",
    "\n",
    "count_vectorizer = CountVectorizer(stop_words='english')\n",
    "count_train = count_vectorizer.fit_transform(X_train.values)\n",
    "count_test = count_vectorizer.transform(X_test.values)\n",
    "\n",
    "\n",
    "count_test"
   ]
  },
  {
   "cell_type": "markdown",
   "metadata": {},
   "source": [
    "# CountVectorizer and TfidfVectorizer"
   ]
  },
  {
   "cell_type": "code",
   "execution_count": 12,
   "metadata": {},
   "outputs": [],
   "source": [
    "from sklearn.feature_extraction.text import CountVectorizer\n",
    "\n",
    "# Initialize the `count_vectorizer` \n",
    "count_vectorizer = CountVectorizer(stop_words='english')\n",
    "\n",
    "# Fit and transform the training data \n",
    "count_train = count_vectorizer.fit_transform(X_train) \n",
    "\n",
    "# Transform the test set \n",
    "count_test = count_vectorizer.transform(X_test)"
   ]
  },
  {
   "cell_type": "code",
   "execution_count": 18,
   "metadata": {},
   "outputs": [],
   "source": [
    "from sklearn.feature_extraction.text import TfidfVectorizer\n",
    "import pickle\n",
    "\n",
    "# Initialize the `tfidf_vectorizer` \n",
    "tfidf_vectorizer = TfidfVectorizer(stop_words='english', max_df=0.7) \n",
    "\n",
    "# Fit and transform the training data \n",
    "tfidf_train = tfidf_vectorizer.fit_transform(X_train) \n",
    "\n",
    "# Transform the test set \n",
    "tfidf_test = tfidf_vectorizer.transform(X_test)"
   ]
  },
  {
   "cell_type": "code",
   "execution_count": 27,
   "metadata": {},
   "outputs": [
    {
     "data": {
      "text/plain": [
       "0.9468178443679557"
      ]
     },
     "execution_count": 27,
     "metadata": {},
     "output_type": "execute_result"
    }
   ],
   "source": [
    "pipeline.score(X_test, y_test)"
   ]
  },
  {
   "cell_type": "code",
   "execution_count": null,
   "metadata": {},
   "outputs": [],
   "source": []
  },
  {
   "cell_type": "code",
   "execution_count": 14,
   "metadata": {},
   "outputs": [
    {
     "name": "stdout",
     "output_type": "stream",
     "text": [
      "['zoolander', 'zor', 'zschaepe', 'zucker', 'zuckerberg', 'zulia', 'zuma', 'zurich', 'état', 'žižek']\n",
      "['00', '000', '000m', '0045', '0112', '0130', '02', '027', '03', '0330']\n"
     ]
    }
   ],
   "source": [
    "# Get the feature names of `tfidf_vectorizer` \n",
    "print(tfidf_vectorizer.get_feature_names()[-10:])\n",
    "\n",
    "# Get the feature names of `count_vectorizer` \n",
    "print(count_vectorizer.get_feature_names()[:10])"
   ]
  },
  {
   "cell_type": "code",
   "execution_count": 15,
   "metadata": {},
   "outputs": [],
   "source": [
    "count_df = pd.DataFrame(count_train.A, columns=count_vectorizer.get_feature_names())\n"
   ]
  },
  {
   "cell_type": "code",
   "execution_count": 16,
   "metadata": {},
   "outputs": [],
   "source": [
    "tfidf_df = pd.DataFrame(tfidf_train.A, columns=tfidf_vectorizer.get_feature_names())"
   ]
  },
  {
   "cell_type": "code",
   "execution_count": 49,
   "metadata": {},
   "outputs": [
    {
     "data": {
      "text/plain": [
       "set()"
      ]
     },
     "execution_count": 49,
     "metadata": {},
     "output_type": "execute_result"
    }
   ],
   "source": [
    "difference = set(count_df.columns) - set(tfidf_df.columns)\n",
    "difference"
   ]
  },
  {
   "cell_type": "code",
   "execution_count": 50,
   "metadata": {},
   "outputs": [
    {
     "name": "stdout",
     "output_type": "stream",
     "text": [
      "False\n"
     ]
    }
   ],
   "source": [
    "print(count_df.equals(tfidf_df))"
   ]
  },
  {
   "cell_type": "code",
   "execution_count": 51,
   "metadata": {},
   "outputs": [
    {
     "data": {
      "text/html": [
       "<div>\n",
       "<style scoped>\n",
       "    .dataframe tbody tr th:only-of-type {\n",
       "        vertical-align: middle;\n",
       "    }\n",
       "\n",
       "    .dataframe tbody tr th {\n",
       "        vertical-align: top;\n",
       "    }\n",
       "\n",
       "    .dataframe thead th {\n",
       "        text-align: right;\n",
       "    }\n",
       "</style>\n",
       "<table border=\"1\" class=\"dataframe\">\n",
       "  <thead>\n",
       "    <tr style=\"text-align: right;\">\n",
       "      <th></th>\n",
       "      <th>00</th>\n",
       "      <th>000</th>\n",
       "      <th>000m</th>\n",
       "      <th>0045</th>\n",
       "      <th>0111</th>\n",
       "      <th>0112</th>\n",
       "      <th>0130</th>\n",
       "      <th>0149</th>\n",
       "      <th>027</th>\n",
       "      <th>0330</th>\n",
       "      <th>...</th>\n",
       "      <th>zor</th>\n",
       "      <th>zschaepe</th>\n",
       "      <th>zucker</th>\n",
       "      <th>zuckerberg</th>\n",
       "      <th>zulia</th>\n",
       "      <th>zuma</th>\n",
       "      <th>zummar</th>\n",
       "      <th>zurich</th>\n",
       "      <th>état</th>\n",
       "      <th>žižek</th>\n",
       "    </tr>\n",
       "  </thead>\n",
       "  <tbody>\n",
       "    <tr>\n",
       "      <th>0</th>\n",
       "      <td>0</td>\n",
       "      <td>0</td>\n",
       "      <td>0</td>\n",
       "      <td>0</td>\n",
       "      <td>0</td>\n",
       "      <td>0</td>\n",
       "      <td>0</td>\n",
       "      <td>0</td>\n",
       "      <td>0</td>\n",
       "      <td>0</td>\n",
       "      <td>...</td>\n",
       "      <td>0</td>\n",
       "      <td>0</td>\n",
       "      <td>0</td>\n",
       "      <td>0</td>\n",
       "      <td>0</td>\n",
       "      <td>0</td>\n",
       "      <td>0</td>\n",
       "      <td>0</td>\n",
       "      <td>0</td>\n",
       "      <td>0</td>\n",
       "    </tr>\n",
       "    <tr>\n",
       "      <th>1</th>\n",
       "      <td>0</td>\n",
       "      <td>0</td>\n",
       "      <td>0</td>\n",
       "      <td>0</td>\n",
       "      <td>0</td>\n",
       "      <td>0</td>\n",
       "      <td>0</td>\n",
       "      <td>0</td>\n",
       "      <td>0</td>\n",
       "      <td>0</td>\n",
       "      <td>...</td>\n",
       "      <td>0</td>\n",
       "      <td>0</td>\n",
       "      <td>0</td>\n",
       "      <td>0</td>\n",
       "      <td>0</td>\n",
       "      <td>0</td>\n",
       "      <td>0</td>\n",
       "      <td>0</td>\n",
       "      <td>0</td>\n",
       "      <td>0</td>\n",
       "    </tr>\n",
       "    <tr>\n",
       "      <th>2</th>\n",
       "      <td>0</td>\n",
       "      <td>0</td>\n",
       "      <td>0</td>\n",
       "      <td>0</td>\n",
       "      <td>0</td>\n",
       "      <td>0</td>\n",
       "      <td>0</td>\n",
       "      <td>0</td>\n",
       "      <td>0</td>\n",
       "      <td>0</td>\n",
       "      <td>...</td>\n",
       "      <td>0</td>\n",
       "      <td>0</td>\n",
       "      <td>0</td>\n",
       "      <td>0</td>\n",
       "      <td>0</td>\n",
       "      <td>0</td>\n",
       "      <td>0</td>\n",
       "      <td>0</td>\n",
       "      <td>0</td>\n",
       "      <td>0</td>\n",
       "    </tr>\n",
       "    <tr>\n",
       "      <th>3</th>\n",
       "      <td>0</td>\n",
       "      <td>0</td>\n",
       "      <td>0</td>\n",
       "      <td>0</td>\n",
       "      <td>0</td>\n",
       "      <td>0</td>\n",
       "      <td>0</td>\n",
       "      <td>0</td>\n",
       "      <td>0</td>\n",
       "      <td>0</td>\n",
       "      <td>...</td>\n",
       "      <td>0</td>\n",
       "      <td>0</td>\n",
       "      <td>0</td>\n",
       "      <td>0</td>\n",
       "      <td>0</td>\n",
       "      <td>0</td>\n",
       "      <td>0</td>\n",
       "      <td>0</td>\n",
       "      <td>0</td>\n",
       "      <td>0</td>\n",
       "    </tr>\n",
       "    <tr>\n",
       "      <th>4</th>\n",
       "      <td>0</td>\n",
       "      <td>0</td>\n",
       "      <td>0</td>\n",
       "      <td>0</td>\n",
       "      <td>0</td>\n",
       "      <td>0</td>\n",
       "      <td>0</td>\n",
       "      <td>0</td>\n",
       "      <td>0</td>\n",
       "      <td>0</td>\n",
       "      <td>...</td>\n",
       "      <td>0</td>\n",
       "      <td>0</td>\n",
       "      <td>0</td>\n",
       "      <td>0</td>\n",
       "      <td>0</td>\n",
       "      <td>0</td>\n",
       "      <td>0</td>\n",
       "      <td>0</td>\n",
       "      <td>0</td>\n",
       "      <td>0</td>\n",
       "    </tr>\n",
       "    <tr>\n",
       "      <th>...</th>\n",
       "      <td>...</td>\n",
       "      <td>...</td>\n",
       "      <td>...</td>\n",
       "      <td>...</td>\n",
       "      <td>...</td>\n",
       "      <td>...</td>\n",
       "      <td>...</td>\n",
       "      <td>...</td>\n",
       "      <td>...</td>\n",
       "      <td>...</td>\n",
       "      <td>...</td>\n",
       "      <td>...</td>\n",
       "      <td>...</td>\n",
       "      <td>...</td>\n",
       "      <td>...</td>\n",
       "      <td>...</td>\n",
       "      <td>...</td>\n",
       "      <td>...</td>\n",
       "      <td>...</td>\n",
       "      <td>...</td>\n",
       "      <td>...</td>\n",
       "    </tr>\n",
       "    <tr>\n",
       "      <th>30076</th>\n",
       "      <td>0</td>\n",
       "      <td>0</td>\n",
       "      <td>0</td>\n",
       "      <td>0</td>\n",
       "      <td>0</td>\n",
       "      <td>0</td>\n",
       "      <td>0</td>\n",
       "      <td>0</td>\n",
       "      <td>0</td>\n",
       "      <td>0</td>\n",
       "      <td>...</td>\n",
       "      <td>0</td>\n",
       "      <td>0</td>\n",
       "      <td>0</td>\n",
       "      <td>0</td>\n",
       "      <td>0</td>\n",
       "      <td>0</td>\n",
       "      <td>0</td>\n",
       "      <td>0</td>\n",
       "      <td>0</td>\n",
       "      <td>0</td>\n",
       "    </tr>\n",
       "    <tr>\n",
       "      <th>30077</th>\n",
       "      <td>0</td>\n",
       "      <td>0</td>\n",
       "      <td>0</td>\n",
       "      <td>0</td>\n",
       "      <td>0</td>\n",
       "      <td>0</td>\n",
       "      <td>0</td>\n",
       "      <td>0</td>\n",
       "      <td>0</td>\n",
       "      <td>0</td>\n",
       "      <td>...</td>\n",
       "      <td>0</td>\n",
       "      <td>0</td>\n",
       "      <td>0</td>\n",
       "      <td>0</td>\n",
       "      <td>0</td>\n",
       "      <td>0</td>\n",
       "      <td>0</td>\n",
       "      <td>0</td>\n",
       "      <td>0</td>\n",
       "      <td>0</td>\n",
       "    </tr>\n",
       "    <tr>\n",
       "      <th>30078</th>\n",
       "      <td>0</td>\n",
       "      <td>0</td>\n",
       "      <td>0</td>\n",
       "      <td>0</td>\n",
       "      <td>0</td>\n",
       "      <td>0</td>\n",
       "      <td>0</td>\n",
       "      <td>0</td>\n",
       "      <td>0</td>\n",
       "      <td>0</td>\n",
       "      <td>...</td>\n",
       "      <td>0</td>\n",
       "      <td>0</td>\n",
       "      <td>0</td>\n",
       "      <td>0</td>\n",
       "      <td>0</td>\n",
       "      <td>0</td>\n",
       "      <td>0</td>\n",
       "      <td>0</td>\n",
       "      <td>0</td>\n",
       "      <td>0</td>\n",
       "    </tr>\n",
       "    <tr>\n",
       "      <th>30079</th>\n",
       "      <td>0</td>\n",
       "      <td>0</td>\n",
       "      <td>0</td>\n",
       "      <td>0</td>\n",
       "      <td>0</td>\n",
       "      <td>0</td>\n",
       "      <td>0</td>\n",
       "      <td>0</td>\n",
       "      <td>0</td>\n",
       "      <td>0</td>\n",
       "      <td>...</td>\n",
       "      <td>0</td>\n",
       "      <td>0</td>\n",
       "      <td>0</td>\n",
       "      <td>0</td>\n",
       "      <td>0</td>\n",
       "      <td>0</td>\n",
       "      <td>0</td>\n",
       "      <td>0</td>\n",
       "      <td>0</td>\n",
       "      <td>0</td>\n",
       "    </tr>\n",
       "    <tr>\n",
       "      <th>30080</th>\n",
       "      <td>0</td>\n",
       "      <td>0</td>\n",
       "      <td>0</td>\n",
       "      <td>0</td>\n",
       "      <td>0</td>\n",
       "      <td>0</td>\n",
       "      <td>0</td>\n",
       "      <td>0</td>\n",
       "      <td>0</td>\n",
       "      <td>0</td>\n",
       "      <td>...</td>\n",
       "      <td>0</td>\n",
       "      <td>0</td>\n",
       "      <td>0</td>\n",
       "      <td>0</td>\n",
       "      <td>0</td>\n",
       "      <td>0</td>\n",
       "      <td>0</td>\n",
       "      <td>0</td>\n",
       "      <td>0</td>\n",
       "      <td>0</td>\n",
       "    </tr>\n",
       "  </tbody>\n",
       "</table>\n",
       "<p>30081 rows × 18180 columns</p>\n",
       "</div>"
      ],
      "text/plain": [
       "       00  000  000m  0045  0111  0112  0130  0149  027  0330  ...  zor  \\\n",
       "0       0    0     0     0     0     0     0     0    0     0  ...    0   \n",
       "1       0    0     0     0     0     0     0     0    0     0  ...    0   \n",
       "2       0    0     0     0     0     0     0     0    0     0  ...    0   \n",
       "3       0    0     0     0     0     0     0     0    0     0  ...    0   \n",
       "4       0    0     0     0     0     0     0     0    0     0  ...    0   \n",
       "...    ..  ...   ...   ...   ...   ...   ...   ...  ...   ...  ...  ...   \n",
       "30076   0    0     0     0     0     0     0     0    0     0  ...    0   \n",
       "30077   0    0     0     0     0     0     0     0    0     0  ...    0   \n",
       "30078   0    0     0     0     0     0     0     0    0     0  ...    0   \n",
       "30079   0    0     0     0     0     0     0     0    0     0  ...    0   \n",
       "30080   0    0     0     0     0     0     0     0    0     0  ...    0   \n",
       "\n",
       "       zschaepe  zucker  zuckerberg  zulia  zuma  zummar  zurich  état  žižek  \n",
       "0             0       0           0      0     0       0       0     0      0  \n",
       "1             0       0           0      0     0       0       0     0      0  \n",
       "2             0       0           0      0     0       0       0     0      0  \n",
       "3             0       0           0      0     0       0       0     0      0  \n",
       "4             0       0           0      0     0       0       0     0      0  \n",
       "...         ...     ...         ...    ...   ...     ...     ...   ...    ...  \n",
       "30076         0       0           0      0     0       0       0     0      0  \n",
       "30077         0       0           0      0     0       0       0     0      0  \n",
       "30078         0       0           0      0     0       0       0     0      0  \n",
       "30079         0       0           0      0     0       0       0     0      0  \n",
       "30080         0       0           0      0     0       0       0     0      0  \n",
       "\n",
       "[30081 rows x 18180 columns]"
      ]
     },
     "execution_count": 51,
     "metadata": {},
     "output_type": "execute_result"
    }
   ],
   "source": [
    "count_df"
   ]
  },
  {
   "cell_type": "code",
   "execution_count": null,
   "metadata": {},
   "outputs": [],
   "source": []
  },
  {
   "cell_type": "markdown",
   "metadata": {},
   "source": [
    "# Test/train SVM"
   ]
  },
  {
   "cell_type": "code",
   "execution_count": null,
   "metadata": {},
   "outputs": [],
   "source": []
  },
  {
   "cell_type": "code",
   "execution_count": 52,
   "metadata": {},
   "outputs": [
    {
     "data": {
      "text/html": [
       "<style>div.sk-top-container {color: black;background-color: white;}div.sk-toggleable {background-color: white;}label.sk-toggleable__label {cursor: pointer;display: block;width: 100%;margin-bottom: 0;padding: 0.2em 0.3em;box-sizing: border-box;text-align: center;}div.sk-toggleable__content {max-height: 0;max-width: 0;overflow: hidden;text-align: left;background-color: #f0f8ff;}div.sk-toggleable__content pre {margin: 0.2em;color: black;border-radius: 0.25em;background-color: #f0f8ff;}input.sk-toggleable__control:checked~div.sk-toggleable__content {max-height: 200px;max-width: 100%;overflow: auto;}div.sk-estimator input.sk-toggleable__control:checked~label.sk-toggleable__label {background-color: #d4ebff;}div.sk-label input.sk-toggleable__control:checked~label.sk-toggleable__label {background-color: #d4ebff;}input.sk-hidden--visually {border: 0;clip: rect(1px 1px 1px 1px);clip: rect(1px, 1px, 1px, 1px);height: 1px;margin: -1px;overflow: hidden;padding: 0;position: absolute;width: 1px;}div.sk-estimator {font-family: monospace;background-color: #f0f8ff;margin: 0.25em 0.25em;border: 1px dotted black;border-radius: 0.25em;box-sizing: border-box;}div.sk-estimator:hover {background-color: #d4ebff;}div.sk-parallel-item::after {content: \"\";width: 100%;border-bottom: 1px solid gray;flex-grow: 1;}div.sk-label:hover label.sk-toggleable__label {background-color: #d4ebff;}div.sk-serial::before {content: \"\";position: absolute;border-left: 1px solid gray;box-sizing: border-box;top: 2em;bottom: 0;left: 50%;}div.sk-serial {display: flex;flex-direction: column;align-items: center;background-color: white;}div.sk-item {z-index: 1;}div.sk-parallel {display: flex;align-items: stretch;justify-content: center;background-color: white;}div.sk-parallel-item {display: flex;flex-direction: column;position: relative;background-color: white;}div.sk-parallel-item:first-child::after {align-self: flex-end;width: 50%;}div.sk-parallel-item:last-child::after {align-self: flex-start;width: 50%;}div.sk-parallel-item:only-child::after {width: 0;}div.sk-dashed-wrapped {border: 1px dashed gray;margin: 0.2em;box-sizing: border-box;padding-bottom: 0.1em;background-color: white;position: relative;}div.sk-label label {font-family: monospace;font-weight: bold;background-color: white;display: inline-block;line-height: 1.2em;}div.sk-label-container {position: relative;z-index: 2;text-align: center;}div.sk-container {display: inline-block;position: relative;}</style><div class=\"sk-top-container\"><div class=\"sk-container\"><div class=\"sk-item\"><div class=\"sk-estimator sk-toggleable\"><input class=\"sk-toggleable__control sk-hidden--visually\" id=\"431b2d06-88ed-4bf3-a405-cfbb71800c50\" type=\"checkbox\" checked><label class=\"sk-toggleable__label\" for=\"431b2d06-88ed-4bf3-a405-cfbb71800c50\">SVC</label><div class=\"sk-toggleable__content\"><pre>SVC(kernel='linear')</pre></div></div></div></div></div>"
      ],
      "text/plain": [
       "SVC(kernel='linear')"
      ]
     },
     "execution_count": 52,
     "metadata": {},
     "output_type": "execute_result"
    }
   ],
   "source": [
    "from sklearn.svm import SVC\n",
    "# Create a support vector machine linear classifer and fit it to the training data\n",
    "model = SVC(kernel='linear')\n",
    "model.fit(tfidf_train, y_train)"
   ]
  },
  {
   "cell_type": "code",
   "execution_count": 53,
   "metadata": {},
   "outputs": [
    {
     "data": {
      "text/plain": [
       "0.948505095498414"
      ]
     },
     "execution_count": 53,
     "metadata": {},
     "output_type": "execute_result"
    }
   ],
   "source": [
    "# Print the model score using the test data\n",
    "model.score(tfidf_test, y_test)"
   ]
  },
  {
   "cell_type": "code",
   "execution_count": 54,
   "metadata": {},
   "outputs": [
    {
     "name": "stdout",
     "output_type": "stream",
     "text": [
      "              precision    recall  f1-score   support\n",
      "\n",
      "       False       0.96      0.94      0.95      7691\n",
      "        True       0.94      0.96      0.95      7126\n",
      "\n",
      "    accuracy                           0.95     14817\n",
      "   macro avg       0.95      0.95      0.95     14817\n",
      "weighted avg       0.95      0.95      0.95     14817\n",
      "\n"
     ]
    }
   ],
   "source": [
    "# Calculate the classification report\n",
    "from sklearn.metrics import classification_report\n",
    "preds = model.predict(tfidf_test)\n",
    "print(classification_report(y_test, preds))"
   ]
  },
  {
   "cell_type": "code",
   "execution_count": null,
   "metadata": {},
   "outputs": [],
   "source": []
  },
  {
   "cell_type": "code",
   "execution_count": 55,
   "metadata": {},
   "outputs": [
    {
     "data": {
      "text/html": [
       "<style>div.sk-top-container {color: black;background-color: white;}div.sk-toggleable {background-color: white;}label.sk-toggleable__label {cursor: pointer;display: block;width: 100%;margin-bottom: 0;padding: 0.2em 0.3em;box-sizing: border-box;text-align: center;}div.sk-toggleable__content {max-height: 0;max-width: 0;overflow: hidden;text-align: left;background-color: #f0f8ff;}div.sk-toggleable__content pre {margin: 0.2em;color: black;border-radius: 0.25em;background-color: #f0f8ff;}input.sk-toggleable__control:checked~div.sk-toggleable__content {max-height: 200px;max-width: 100%;overflow: auto;}div.sk-estimator input.sk-toggleable__control:checked~label.sk-toggleable__label {background-color: #d4ebff;}div.sk-label input.sk-toggleable__control:checked~label.sk-toggleable__label {background-color: #d4ebff;}input.sk-hidden--visually {border: 0;clip: rect(1px 1px 1px 1px);clip: rect(1px, 1px, 1px, 1px);height: 1px;margin: -1px;overflow: hidden;padding: 0;position: absolute;width: 1px;}div.sk-estimator {font-family: monospace;background-color: #f0f8ff;margin: 0.25em 0.25em;border: 1px dotted black;border-radius: 0.25em;box-sizing: border-box;}div.sk-estimator:hover {background-color: #d4ebff;}div.sk-parallel-item::after {content: \"\";width: 100%;border-bottom: 1px solid gray;flex-grow: 1;}div.sk-label:hover label.sk-toggleable__label {background-color: #d4ebff;}div.sk-serial::before {content: \"\";position: absolute;border-left: 1px solid gray;box-sizing: border-box;top: 2em;bottom: 0;left: 50%;}div.sk-serial {display: flex;flex-direction: column;align-items: center;background-color: white;}div.sk-item {z-index: 1;}div.sk-parallel {display: flex;align-items: stretch;justify-content: center;background-color: white;}div.sk-parallel-item {display: flex;flex-direction: column;position: relative;background-color: white;}div.sk-parallel-item:first-child::after {align-self: flex-end;width: 50%;}div.sk-parallel-item:last-child::after {align-self: flex-start;width: 50%;}div.sk-parallel-item:only-child::after {width: 0;}div.sk-dashed-wrapped {border: 1px dashed gray;margin: 0.2em;box-sizing: border-box;padding-bottom: 0.1em;background-color: white;position: relative;}div.sk-label label {font-family: monospace;font-weight: bold;background-color: white;display: inline-block;line-height: 1.2em;}div.sk-label-container {position: relative;z-index: 2;text-align: center;}div.sk-container {display: inline-block;position: relative;}</style><div class=\"sk-top-container\"><div class=\"sk-container\"><div class=\"sk-item\"><div class=\"sk-estimator sk-toggleable\"><input class=\"sk-toggleable__control sk-hidden--visually\" id=\"abbce5f4-5ae8-4d24-8101-4b9852cb6e4a\" type=\"checkbox\" checked><label class=\"sk-toggleable__label\" for=\"abbce5f4-5ae8-4d24-8101-4b9852cb6e4a\">SVC</label><div class=\"sk-toggleable__content\"><pre>SVC(kernel='linear')</pre></div></div></div></div></div>"
      ],
      "text/plain": [
       "SVC(kernel='linear')"
      ]
     },
     "execution_count": 55,
     "metadata": {},
     "output_type": "execute_result"
    }
   ],
   "source": [
    "from sklearn.svm import SVC\n",
    "# Create a support vector machine linear classifer and fit it to the training data\n",
    "model = SVC(kernel='linear')\n",
    "model.fit(count_train, y_train)"
   ]
  },
  {
   "cell_type": "code",
   "execution_count": 56,
   "metadata": {},
   "outputs": [
    {
     "data": {
      "text/plain": [
       "0.9459404737801175"
      ]
     },
     "execution_count": 56,
     "metadata": {},
     "output_type": "execute_result"
    }
   ],
   "source": [
    "# Print the model score using the test data\n",
    "model.score(count_test, y_test)"
   ]
  },
  {
   "cell_type": "code",
   "execution_count": 57,
   "metadata": {},
   "outputs": [
    {
     "name": "stdout",
     "output_type": "stream",
     "text": [
      "              precision    recall  f1-score   support\n",
      "\n",
      "       False       0.96      0.94      0.95      7691\n",
      "        True       0.94      0.95      0.94      7126\n",
      "\n",
      "    accuracy                           0.95     14817\n",
      "   macro avg       0.95      0.95      0.95     14817\n",
      "weighted avg       0.95      0.95      0.95     14817\n",
      "\n"
     ]
    }
   ],
   "source": [
    "# Calculate the classification report\n",
    "from sklearn.metrics import classification_report\n",
    "preds = model.predict(count_test)\n",
    "print(classification_report(y_test, preds))"
   ]
  },
  {
   "cell_type": "code",
   "execution_count": null,
   "metadata": {},
   "outputs": [],
   "source": []
  },
  {
   "cell_type": "code",
   "execution_count": 58,
   "metadata": {},
   "outputs": [
    {
     "data": {
      "text/html": [
       "<style>div.sk-top-container {color: black;background-color: white;}div.sk-toggleable {background-color: white;}label.sk-toggleable__label {cursor: pointer;display: block;width: 100%;margin-bottom: 0;padding: 0.2em 0.3em;box-sizing: border-box;text-align: center;}div.sk-toggleable__content {max-height: 0;max-width: 0;overflow: hidden;text-align: left;background-color: #f0f8ff;}div.sk-toggleable__content pre {margin: 0.2em;color: black;border-radius: 0.25em;background-color: #f0f8ff;}input.sk-toggleable__control:checked~div.sk-toggleable__content {max-height: 200px;max-width: 100%;overflow: auto;}div.sk-estimator input.sk-toggleable__control:checked~label.sk-toggleable__label {background-color: #d4ebff;}div.sk-label input.sk-toggleable__control:checked~label.sk-toggleable__label {background-color: #d4ebff;}input.sk-hidden--visually {border: 0;clip: rect(1px 1px 1px 1px);clip: rect(1px, 1px, 1px, 1px);height: 1px;margin: -1px;overflow: hidden;padding: 0;position: absolute;width: 1px;}div.sk-estimator {font-family: monospace;background-color: #f0f8ff;margin: 0.25em 0.25em;border: 1px dotted black;border-radius: 0.25em;box-sizing: border-box;}div.sk-estimator:hover {background-color: #d4ebff;}div.sk-parallel-item::after {content: \"\";width: 100%;border-bottom: 1px solid gray;flex-grow: 1;}div.sk-label:hover label.sk-toggleable__label {background-color: #d4ebff;}div.sk-serial::before {content: \"\";position: absolute;border-left: 1px solid gray;box-sizing: border-box;top: 2em;bottom: 0;left: 50%;}div.sk-serial {display: flex;flex-direction: column;align-items: center;background-color: white;}div.sk-item {z-index: 1;}div.sk-parallel {display: flex;align-items: stretch;justify-content: center;background-color: white;}div.sk-parallel-item {display: flex;flex-direction: column;position: relative;background-color: white;}div.sk-parallel-item:first-child::after {align-self: flex-end;width: 50%;}div.sk-parallel-item:last-child::after {align-self: flex-start;width: 50%;}div.sk-parallel-item:only-child::after {width: 0;}div.sk-dashed-wrapped {border: 1px dashed gray;margin: 0.2em;box-sizing: border-box;padding-bottom: 0.1em;background-color: white;position: relative;}div.sk-label label {font-family: monospace;font-weight: bold;background-color: white;display: inline-block;line-height: 1.2em;}div.sk-label-container {position: relative;z-index: 2;text-align: center;}div.sk-container {display: inline-block;position: relative;}</style><div class=\"sk-top-container\"><div class=\"sk-container\"><div class=\"sk-item\"><div class=\"sk-estimator sk-toggleable\"><input class=\"sk-toggleable__control sk-hidden--visually\" id=\"3f006163-da9d-436c-8436-3f43980788f0\" type=\"checkbox\" checked><label class=\"sk-toggleable__label\" for=\"3f006163-da9d-436c-8436-3f43980788f0\">SVC</label><div class=\"sk-toggleable__content\"><pre>SVC(kernel='linear')</pre></div></div></div></div></div>"
      ],
      "text/plain": [
       "SVC(kernel='linear')"
      ]
     },
     "execution_count": 58,
     "metadata": {},
     "output_type": "execute_result"
    }
   ],
   "source": [
    "# Create the SVC Model\n",
    "from sklearn.svm import SVC \n",
    "model = SVC(kernel='linear')\n",
    "model"
   ]
  },
  {
   "cell_type": "code",
   "execution_count": 59,
   "metadata": {},
   "outputs": [
    {
     "data": {
      "text/html": [
       "<style>div.sk-top-container {color: black;background-color: white;}div.sk-toggleable {background-color: white;}label.sk-toggleable__label {cursor: pointer;display: block;width: 100%;margin-bottom: 0;padding: 0.2em 0.3em;box-sizing: border-box;text-align: center;}div.sk-toggleable__content {max-height: 0;max-width: 0;overflow: hidden;text-align: left;background-color: #f0f8ff;}div.sk-toggleable__content pre {margin: 0.2em;color: black;border-radius: 0.25em;background-color: #f0f8ff;}input.sk-toggleable__control:checked~div.sk-toggleable__content {max-height: 200px;max-width: 100%;overflow: auto;}div.sk-estimator input.sk-toggleable__control:checked~label.sk-toggleable__label {background-color: #d4ebff;}div.sk-label input.sk-toggleable__control:checked~label.sk-toggleable__label {background-color: #d4ebff;}input.sk-hidden--visually {border: 0;clip: rect(1px 1px 1px 1px);clip: rect(1px, 1px, 1px, 1px);height: 1px;margin: -1px;overflow: hidden;padding: 0;position: absolute;width: 1px;}div.sk-estimator {font-family: monospace;background-color: #f0f8ff;margin: 0.25em 0.25em;border: 1px dotted black;border-radius: 0.25em;box-sizing: border-box;}div.sk-estimator:hover {background-color: #d4ebff;}div.sk-parallel-item::after {content: \"\";width: 100%;border-bottom: 1px solid gray;flex-grow: 1;}div.sk-label:hover label.sk-toggleable__label {background-color: #d4ebff;}div.sk-serial::before {content: \"\";position: absolute;border-left: 1px solid gray;box-sizing: border-box;top: 2em;bottom: 0;left: 50%;}div.sk-serial {display: flex;flex-direction: column;align-items: center;background-color: white;}div.sk-item {z-index: 1;}div.sk-parallel {display: flex;align-items: stretch;justify-content: center;background-color: white;}div.sk-parallel-item {display: flex;flex-direction: column;position: relative;background-color: white;}div.sk-parallel-item:first-child::after {align-self: flex-end;width: 50%;}div.sk-parallel-item:last-child::after {align-self: flex-start;width: 50%;}div.sk-parallel-item:only-child::after {width: 0;}div.sk-dashed-wrapped {border: 1px dashed gray;margin: 0.2em;box-sizing: border-box;padding-bottom: 0.1em;background-color: white;position: relative;}div.sk-label label {font-family: monospace;font-weight: bold;background-color: white;display: inline-block;line-height: 1.2em;}div.sk-label-container {position: relative;z-index: 2;text-align: center;}div.sk-container {display: inline-block;position: relative;}</style><div class=\"sk-top-container\"><div class=\"sk-container\"><div class=\"sk-item sk-dashed-wrapped\"><div class=\"sk-label-container\"><div class=\"sk-label sk-toggleable\"><input class=\"sk-toggleable__control sk-hidden--visually\" id=\"b45f19f4-58bc-4230-ac53-be1039e1d8a0\" type=\"checkbox\" ><label class=\"sk-toggleable__label\" for=\"b45f19f4-58bc-4230-ac53-be1039e1d8a0\">Pipeline</label><div class=\"sk-toggleable__content\"><pre>Pipeline(steps=[('svc', SVC(kernel='linear'))])</pre></div></div></div><div class=\"sk-serial\"><div class=\"sk-item\"><div class=\"sk-estimator sk-toggleable\"><input class=\"sk-toggleable__control sk-hidden--visually\" id=\"86ac3ce3-a42d-4471-bbba-c6e510c4c227\" type=\"checkbox\" ><label class=\"sk-toggleable__label\" for=\"86ac3ce3-a42d-4471-bbba-c6e510c4c227\">SVC</label><div class=\"sk-toggleable__content\"><pre>SVC(kernel='linear')</pre></div></div></div></div></div></div></div>"
      ],
      "text/plain": [
       "Pipeline(steps=[('svc', SVC(kernel='linear'))])"
      ]
     },
     "execution_count": 59,
     "metadata": {},
     "output_type": "execute_result"
    }
   ],
   "source": [
    "# Create the SVC Model\n",
    "from sklearn.pipeline import make_pipeline\n",
    "from sklearn.svm import SVC \n",
    "from sklearn import set_config\n",
    "set_config(display=\"diagram\")\n",
    "\n",
    "pipe = make_pipeline(model)\n",
    "pipe"
   ]
  },
  {
   "cell_type": "code",
   "execution_count": 60,
   "metadata": {},
   "outputs": [],
   "source": [
    "# Create the GridSearch estimator along with a parameter object containing the values to adjust\n",
    "from sklearn.model_selection import GridSearchCV\n",
    "param_grid = {'svc__C': [1, 5, 10, 50],\n",
    "              'svc__gamma': [0.0001, 0.0005, 0.001, 0.005]}\n",
    "grid = GridSearchCV(pipe, param_grid, verbose=3)"
   ]
  },
  {
   "cell_type": "code",
   "execution_count": 61,
   "metadata": {},
   "outputs": [
    {
     "name": "stdout",
     "output_type": "stream",
     "text": [
      "Fitting 5 folds for each of 16 candidates, totalling 80 fits\n",
      "[CV] svc__C=1, svc__gamma=0.0001 .....................................\n"
     ]
    },
    {
     "name": "stderr",
     "output_type": "stream",
     "text": [
      "[Parallel(n_jobs=1)]: Using backend SequentialBackend with 1 concurrent workers.\n"
     ]
    },
    {
     "name": "stdout",
     "output_type": "stream",
     "text": [
      "[CV] ......... svc__C=1, svc__gamma=0.0001, score=0.948, total=  50.9s\n",
      "[CV] svc__C=1, svc__gamma=0.0001 .....................................\n"
     ]
    },
    {
     "name": "stderr",
     "output_type": "stream",
     "text": [
      "[Parallel(n_jobs=1)]: Done   1 out of   1 | elapsed:   50.9s remaining:    0.0s\n"
     ]
    },
    {
     "name": "stdout",
     "output_type": "stream",
     "text": [
      "[CV] ......... svc__C=1, svc__gamma=0.0001, score=0.942, total=  40.2s\n",
      "[CV] svc__C=1, svc__gamma=0.0001 .....................................\n"
     ]
    },
    {
     "name": "stderr",
     "output_type": "stream",
     "text": [
      "[Parallel(n_jobs=1)]: Done   2 out of   2 | elapsed:  1.5min remaining:    0.0s\n"
     ]
    },
    {
     "name": "stdout",
     "output_type": "stream",
     "text": [
      "[CV] ......... svc__C=1, svc__gamma=0.0001, score=0.943, total=  40.0s\n",
      "[CV] svc__C=1, svc__gamma=0.0001 .....................................\n",
      "[CV] ......... svc__C=1, svc__gamma=0.0001, score=0.947, total=  40.6s\n",
      "[CV] svc__C=1, svc__gamma=0.0001 .....................................\n",
      "[CV] ......... svc__C=1, svc__gamma=0.0001, score=0.938, total=  40.2s\n",
      "[CV] svc__C=1, svc__gamma=0.0005 .....................................\n",
      "[CV] ......... svc__C=1, svc__gamma=0.0005, score=0.948, total=  49.8s\n",
      "[CV] svc__C=1, svc__gamma=0.0005 .....................................\n",
      "[CV] ......... svc__C=1, svc__gamma=0.0005, score=0.942, total=  40.0s\n",
      "[CV] svc__C=1, svc__gamma=0.0005 .....................................\n",
      "[CV] ......... svc__C=1, svc__gamma=0.0005, score=0.943, total=  40.4s\n",
      "[CV] svc__C=1, svc__gamma=0.0005 .....................................\n",
      "[CV] ......... svc__C=1, svc__gamma=0.0005, score=0.947, total=  40.0s\n",
      "[CV] svc__C=1, svc__gamma=0.0005 .....................................\n",
      "[CV] ......... svc__C=1, svc__gamma=0.0005, score=0.938, total=  40.5s\n",
      "[CV] svc__C=1, svc__gamma=0.001 ......................................\n",
      "[CV] .......... svc__C=1, svc__gamma=0.001, score=0.948, total=  50.3s\n",
      "[CV] svc__C=1, svc__gamma=0.001 ......................................\n",
      "[CV] .......... svc__C=1, svc__gamma=0.001, score=0.942, total=  39.7s\n",
      "[CV] svc__C=1, svc__gamma=0.001 ......................................\n",
      "[CV] .......... svc__C=1, svc__gamma=0.001, score=0.943, total=  40.1s\n",
      "[CV] svc__C=1, svc__gamma=0.001 ......................................\n",
      "[CV] .......... svc__C=1, svc__gamma=0.001, score=0.947, total=  40.5s\n",
      "[CV] svc__C=1, svc__gamma=0.001 ......................................\n",
      "[CV] .......... svc__C=1, svc__gamma=0.001, score=0.938, total=  40.9s\n",
      "[CV] svc__C=1, svc__gamma=0.005 ......................................\n",
      "[CV] .......... svc__C=1, svc__gamma=0.005, score=0.948, total=  51.0s\n",
      "[CV] svc__C=1, svc__gamma=0.005 ......................................\n",
      "[CV] .......... svc__C=1, svc__gamma=0.005, score=0.942, total=  39.8s\n",
      "[CV] svc__C=1, svc__gamma=0.005 ......................................\n",
      "[CV] .......... svc__C=1, svc__gamma=0.005, score=0.943, total=  42.2s\n",
      "[CV] svc__C=1, svc__gamma=0.005 ......................................\n",
      "[CV] .......... svc__C=1, svc__gamma=0.005, score=0.947, total=  42.0s\n",
      "[CV] svc__C=1, svc__gamma=0.005 ......................................\n",
      "[CV] .......... svc__C=1, svc__gamma=0.005, score=0.938, total=  40.6s\n",
      "[CV] svc__C=5, svc__gamma=0.0001 .....................................\n",
      "[CV] ......... svc__C=5, svc__gamma=0.0001, score=0.942, total= 1.1min\n",
      "[CV] svc__C=5, svc__gamma=0.0001 .....................................\n",
      "[CV] ......... svc__C=5, svc__gamma=0.0001, score=0.937, total=  51.2s\n",
      "[CV] svc__C=5, svc__gamma=0.0001 .....................................\n",
      "[CV] ......... svc__C=5, svc__gamma=0.0001, score=0.937, total= 1.1min\n",
      "[CV] svc__C=5, svc__gamma=0.0001 .....................................\n",
      "[CV] ......... svc__C=5, svc__gamma=0.0001, score=0.939, total=  50.5s\n",
      "[CV] svc__C=5, svc__gamma=0.0001 .....................................\n",
      "[CV] ......... svc__C=5, svc__gamma=0.0001, score=0.936, total=  50.2s\n",
      "[CV] svc__C=5, svc__gamma=0.0005 .....................................\n",
      "[CV] ......... svc__C=5, svc__gamma=0.0005, score=0.942, total= 1.1min\n",
      "[CV] svc__C=5, svc__gamma=0.0005 .....................................\n",
      "[CV] ......... svc__C=5, svc__gamma=0.0005, score=0.937, total=  52.4s\n",
      "[CV] svc__C=5, svc__gamma=0.0005 .....................................\n",
      "[CV] ......... svc__C=5, svc__gamma=0.0005, score=0.937, total= 1.2min\n",
      "[CV] svc__C=5, svc__gamma=0.0005 .....................................\n",
      "[CV] ......... svc__C=5, svc__gamma=0.0005, score=0.939, total=  49.9s\n",
      "[CV] svc__C=5, svc__gamma=0.0005 .....................................\n",
      "[CV] ......... svc__C=5, svc__gamma=0.0005, score=0.936, total=  51.1s\n",
      "[CV] svc__C=5, svc__gamma=0.001 ......................................\n",
      "[CV] .......... svc__C=5, svc__gamma=0.001, score=0.942, total= 1.1min\n",
      "[CV] svc__C=5, svc__gamma=0.001 ......................................\n",
      "[CV] .......... svc__C=5, svc__gamma=0.001, score=0.937, total=  50.5s\n",
      "[CV] svc__C=5, svc__gamma=0.001 ......................................\n",
      "[CV] .......... svc__C=5, svc__gamma=0.001, score=0.937, total= 1.1min\n",
      "[CV] svc__C=5, svc__gamma=0.001 ......................................\n",
      "[CV] .......... svc__C=5, svc__gamma=0.001, score=0.939, total=  53.4s\n",
      "[CV] svc__C=5, svc__gamma=0.001 ......................................\n",
      "[CV] .......... svc__C=5, svc__gamma=0.001, score=0.936, total=  50.2s\n",
      "[CV] svc__C=5, svc__gamma=0.005 ......................................\n",
      "[CV] .......... svc__C=5, svc__gamma=0.005, score=0.942, total= 1.1min\n",
      "[CV] svc__C=5, svc__gamma=0.005 ......................................\n",
      "[CV] .......... svc__C=5, svc__gamma=0.005, score=0.937, total=  50.9s\n",
      "[CV] svc__C=5, svc__gamma=0.005 ......................................\n",
      "[CV] .......... svc__C=5, svc__gamma=0.005, score=0.937, total= 1.1min\n",
      "[CV] svc__C=5, svc__gamma=0.005 ......................................\n",
      "[CV] .......... svc__C=5, svc__gamma=0.005, score=0.939, total=  50.9s\n",
      "[CV] svc__C=5, svc__gamma=0.005 ......................................\n",
      "[CV] .......... svc__C=5, svc__gamma=0.005, score=0.936, total=  53.2s\n",
      "[CV] svc__C=10, svc__gamma=0.0001 ....................................\n",
      "[CV] ........ svc__C=10, svc__gamma=0.0001, score=0.937, total=  56.2s\n",
      "[CV] svc__C=10, svc__gamma=0.0001 ....................................\n",
      "[CV] ........ svc__C=10, svc__gamma=0.0001, score=0.936, total= 1.1min\n",
      "[CV] svc__C=10, svc__gamma=0.0001 ....................................\n",
      "[CV] ........ svc__C=10, svc__gamma=0.0001, score=0.934, total= 1.1min\n",
      "[CV] svc__C=10, svc__gamma=0.0001 ....................................\n",
      "[CV] ........ svc__C=10, svc__gamma=0.0001, score=0.933, total=  52.1s\n",
      "[CV] svc__C=10, svc__gamma=0.0001 ....................................\n",
      "[CV] ........ svc__C=10, svc__gamma=0.0001, score=0.932, total=  50.8s\n",
      "[CV] svc__C=10, svc__gamma=0.0005 ....................................\n",
      "[CV] ........ svc__C=10, svc__gamma=0.0005, score=0.937, total=  52.4s\n",
      "[CV] svc__C=10, svc__gamma=0.0005 ....................................\n",
      "[CV] ........ svc__C=10, svc__gamma=0.0005, score=0.936, total= 1.1min\n",
      "[CV] svc__C=10, svc__gamma=0.0005 ....................................\n",
      "[CV] ........ svc__C=10, svc__gamma=0.0005, score=0.934, total= 1.1min\n",
      "[CV] svc__C=10, svc__gamma=0.0005 ....................................\n",
      "[CV] ........ svc__C=10, svc__gamma=0.0005, score=0.933, total=  52.5s\n",
      "[CV] svc__C=10, svc__gamma=0.0005 ....................................\n",
      "[CV] ........ svc__C=10, svc__gamma=0.0005, score=0.932, total=  52.3s\n",
      "[CV] svc__C=10, svc__gamma=0.001 .....................................\n",
      "[CV] ......... svc__C=10, svc__gamma=0.001, score=0.937, total=  52.7s\n",
      "[CV] svc__C=10, svc__gamma=0.001 .....................................\n",
      "[CV] ......... svc__C=10, svc__gamma=0.001, score=0.936, total= 1.1min\n",
      "[CV] svc__C=10, svc__gamma=0.001 .....................................\n",
      "[CV] ......... svc__C=10, svc__gamma=0.001, score=0.934, total= 1.1min\n",
      "[CV] svc__C=10, svc__gamma=0.001 .....................................\n",
      "[CV] ......... svc__C=10, svc__gamma=0.001, score=0.933, total=  51.9s\n",
      "[CV] svc__C=10, svc__gamma=0.001 .....................................\n",
      "[CV] ......... svc__C=10, svc__gamma=0.001, score=0.932, total=  51.1s\n",
      "[CV] svc__C=10, svc__gamma=0.005 .....................................\n",
      "[CV] ......... svc__C=10, svc__gamma=0.005, score=0.937, total=  57.6s\n",
      "[CV] svc__C=10, svc__gamma=0.005 .....................................\n",
      "[CV] ......... svc__C=10, svc__gamma=0.005, score=0.936, total= 1.1min\n",
      "[CV] svc__C=10, svc__gamma=0.005 .....................................\n",
      "[CV] ......... svc__C=10, svc__gamma=0.005, score=0.934, total= 1.1min\n",
      "[CV] svc__C=10, svc__gamma=0.005 .....................................\n",
      "[CV] ......... svc__C=10, svc__gamma=0.005, score=0.933, total=  52.6s\n",
      "[CV] svc__C=10, svc__gamma=0.005 .....................................\n",
      "[CV] ......... svc__C=10, svc__gamma=0.005, score=0.932, total=  50.5s\n",
      "[CV] svc__C=50, svc__gamma=0.0001 ....................................\n"
     ]
    },
    {
     "name": "stdout",
     "output_type": "stream",
     "text": [
      "[CV] ........ svc__C=50, svc__gamma=0.0001, score=0.930, total=  52.0s\n",
      "[CV] svc__C=50, svc__gamma=0.0001 ....................................\n",
      "[CV] ........ svc__C=50, svc__gamma=0.0001, score=0.927, total=  51.8s\n",
      "[CV] svc__C=50, svc__gamma=0.0001 ....................................\n",
      "[CV] ........ svc__C=50, svc__gamma=0.0001, score=0.926, total=  51.8s\n",
      "[CV] svc__C=50, svc__gamma=0.0001 ....................................\n",
      "[CV] ........ svc__C=50, svc__gamma=0.0001, score=0.926, total=  52.0s\n",
      "[CV] svc__C=50, svc__gamma=0.0001 ....................................\n",
      "[CV] ........ svc__C=50, svc__gamma=0.0001, score=0.924, total=  49.6s\n",
      "[CV] svc__C=50, svc__gamma=0.0005 ....................................\n",
      "[CV] ........ svc__C=50, svc__gamma=0.0005, score=0.930, total=  53.0s\n",
      "[CV] svc__C=50, svc__gamma=0.0005 ....................................\n",
      "[CV] ........ svc__C=50, svc__gamma=0.0005, score=0.927, total=  52.0s\n",
      "[CV] svc__C=50, svc__gamma=0.0005 ....................................\n",
      "[CV] ........ svc__C=50, svc__gamma=0.0005, score=0.926, total=  51.4s\n",
      "[CV] svc__C=50, svc__gamma=0.0005 ....................................\n",
      "[CV] ........ svc__C=50, svc__gamma=0.0005, score=0.926, total=  52.2s\n",
      "[CV] svc__C=50, svc__gamma=0.0005 ....................................\n",
      "[CV] ........ svc__C=50, svc__gamma=0.0005, score=0.924, total=  50.7s\n",
      "[CV] svc__C=50, svc__gamma=0.001 .....................................\n",
      "[CV] ......... svc__C=50, svc__gamma=0.001, score=0.930, total=  52.3s\n",
      "[CV] svc__C=50, svc__gamma=0.001 .....................................\n",
      "[CV] ......... svc__C=50, svc__gamma=0.001, score=0.927, total=  52.1s\n",
      "[CV] svc__C=50, svc__gamma=0.001 .....................................\n",
      "[CV] ......... svc__C=50, svc__gamma=0.001, score=0.926, total=  52.0s\n",
      "[CV] svc__C=50, svc__gamma=0.001 .....................................\n",
      "[CV] ......... svc__C=50, svc__gamma=0.001, score=0.926, total=  52.8s\n",
      "[CV] svc__C=50, svc__gamma=0.001 .....................................\n",
      "[CV] ......... svc__C=50, svc__gamma=0.001, score=0.924, total=  51.4s\n",
      "[CV] svc__C=50, svc__gamma=0.005 .....................................\n",
      "[CV] ......... svc__C=50, svc__gamma=0.005, score=0.930, total=  52.2s\n",
      "[CV] svc__C=50, svc__gamma=0.005 .....................................\n",
      "[CV] ......... svc__C=50, svc__gamma=0.005, score=0.927, total=  51.6s\n",
      "[CV] svc__C=50, svc__gamma=0.005 .....................................\n",
      "[CV] ......... svc__C=50, svc__gamma=0.005, score=0.926, total=  51.4s\n",
      "[CV] svc__C=50, svc__gamma=0.005 .....................................\n",
      "[CV] ......... svc__C=50, svc__gamma=0.005, score=0.926, total=  52.8s\n",
      "[CV] svc__C=50, svc__gamma=0.005 .....................................\n",
      "[CV] ......... svc__C=50, svc__gamma=0.005, score=0.924, total=  51.4s\n"
     ]
    },
    {
     "name": "stderr",
     "output_type": "stream",
     "text": [
      "[Parallel(n_jobs=1)]: Done  80 out of  80 | elapsed: 69.7min finished\n"
     ]
    },
    {
     "data": {
      "text/html": [
       "<style>div.sk-top-container {color: black;background-color: white;}div.sk-toggleable {background-color: white;}label.sk-toggleable__label {cursor: pointer;display: block;width: 100%;margin-bottom: 0;padding: 0.2em 0.3em;box-sizing: border-box;text-align: center;}div.sk-toggleable__content {max-height: 0;max-width: 0;overflow: hidden;text-align: left;background-color: #f0f8ff;}div.sk-toggleable__content pre {margin: 0.2em;color: black;border-radius: 0.25em;background-color: #f0f8ff;}input.sk-toggleable__control:checked~div.sk-toggleable__content {max-height: 200px;max-width: 100%;overflow: auto;}div.sk-estimator input.sk-toggleable__control:checked~label.sk-toggleable__label {background-color: #d4ebff;}div.sk-label input.sk-toggleable__control:checked~label.sk-toggleable__label {background-color: #d4ebff;}input.sk-hidden--visually {border: 0;clip: rect(1px 1px 1px 1px);clip: rect(1px, 1px, 1px, 1px);height: 1px;margin: -1px;overflow: hidden;padding: 0;position: absolute;width: 1px;}div.sk-estimator {font-family: monospace;background-color: #f0f8ff;margin: 0.25em 0.25em;border: 1px dotted black;border-radius: 0.25em;box-sizing: border-box;}div.sk-estimator:hover {background-color: #d4ebff;}div.sk-parallel-item::after {content: \"\";width: 100%;border-bottom: 1px solid gray;flex-grow: 1;}div.sk-label:hover label.sk-toggleable__label {background-color: #d4ebff;}div.sk-serial::before {content: \"\";position: absolute;border-left: 1px solid gray;box-sizing: border-box;top: 2em;bottom: 0;left: 50%;}div.sk-serial {display: flex;flex-direction: column;align-items: center;background-color: white;}div.sk-item {z-index: 1;}div.sk-parallel {display: flex;align-items: stretch;justify-content: center;background-color: white;}div.sk-parallel-item {display: flex;flex-direction: column;position: relative;background-color: white;}div.sk-parallel-item:first-child::after {align-self: flex-end;width: 50%;}div.sk-parallel-item:last-child::after {align-self: flex-start;width: 50%;}div.sk-parallel-item:only-child::after {width: 0;}div.sk-dashed-wrapped {border: 1px dashed gray;margin: 0.2em;box-sizing: border-box;padding-bottom: 0.1em;background-color: white;position: relative;}div.sk-label label {font-family: monospace;font-weight: bold;background-color: white;display: inline-block;line-height: 1.2em;}div.sk-label-container {position: relative;z-index: 2;text-align: center;}div.sk-container {display: inline-block;position: relative;}</style><div class=\"sk-top-container\"><div class=\"sk-container\"><div class=\"sk-item sk-dashed-wrapped\"><div class=\"sk-label-container\"><div class=\"sk-label sk-toggleable\"><input class=\"sk-toggleable__control sk-hidden--visually\" id=\"422f3847-4939-402e-af2b-3ff7a8490e79\" type=\"checkbox\" ><label class=\"sk-toggleable__label\" for=\"422f3847-4939-402e-af2b-3ff7a8490e79\">GridSearchCV</label><div class=\"sk-toggleable__content\"><pre>GridSearchCV(estimator=Pipeline(steps=[('svc', SVC(kernel='linear'))]),\n",
       "             param_grid={'svc__C': [1, 5, 10, 50],\n",
       "                         'svc__gamma': [0.0001, 0.0005, 0.001, 0.005]},\n",
       "             verbose=3)</pre></div></div></div><div class=\"sk-parallel\"><div class=\"sk-parallel-item\"><div class=\"sk-item\"><div class=\"sk-serial\"><div class=\"sk-item\"><div class=\"sk-serial\"><div class=\"sk-item\"><div class=\"sk-estimator sk-toggleable\"><input class=\"sk-toggleable__control sk-hidden--visually\" id=\"b482e744-e1ad-4df3-ab41-673eb33c449d\" type=\"checkbox\" ><label class=\"sk-toggleable__label\" for=\"b482e744-e1ad-4df3-ab41-673eb33c449d\">SVC</label><div class=\"sk-toggleable__content\"><pre>SVC(kernel='linear')</pre></div></div></div></div></div></div></div></div></div></div></div></div>"
      ],
      "text/plain": [
       "GridSearchCV(estimator=Pipeline(steps=[('svc', SVC(kernel='linear'))]),\n",
       "             param_grid={'svc__C': [1, 5, 10, 50],\n",
       "                         'svc__gamma': [0.0001, 0.0005, 0.001, 0.005]},\n",
       "             verbose=3)"
      ]
     },
     "execution_count": 61,
     "metadata": {},
     "output_type": "execute_result"
    }
   ],
   "source": [
    "# Fit the model using the grid search estimator. \n",
    "# This will take the SVC model and try each combination of parameters\n",
    "grid.fit(tfidf_train, y_train)"
   ]
  },
  {
   "cell_type": "code",
   "execution_count": 62,
   "metadata": {},
   "outputs": [
    {
     "name": "stdout",
     "output_type": "stream",
     "text": [
      "Best params: {'svc__C': 1, 'svc__gamma': 0.0001}\n",
      "Best score: 0.9435522612792123\n"
     ]
    }
   ],
   "source": [
    "# List the best parameters for this dataset\n",
    "print(f\"Best params: {grid.best_params_}\")\n",
    "# List the best score\n",
    "print(f\"Best score: {grid.best_score_}\")"
   ]
  },
  {
   "cell_type": "code",
   "execution_count": 63,
   "metadata": {},
   "outputs": [
    {
     "data": {
      "text/html": [
       "<style>div.sk-top-container {color: black;background-color: white;}div.sk-toggleable {background-color: white;}label.sk-toggleable__label {cursor: pointer;display: block;width: 100%;margin-bottom: 0;padding: 0.2em 0.3em;box-sizing: border-box;text-align: center;}div.sk-toggleable__content {max-height: 0;max-width: 0;overflow: hidden;text-align: left;background-color: #f0f8ff;}div.sk-toggleable__content pre {margin: 0.2em;color: black;border-radius: 0.25em;background-color: #f0f8ff;}input.sk-toggleable__control:checked~div.sk-toggleable__content {max-height: 200px;max-width: 100%;overflow: auto;}div.sk-estimator input.sk-toggleable__control:checked~label.sk-toggleable__label {background-color: #d4ebff;}div.sk-label input.sk-toggleable__control:checked~label.sk-toggleable__label {background-color: #d4ebff;}input.sk-hidden--visually {border: 0;clip: rect(1px 1px 1px 1px);clip: rect(1px, 1px, 1px, 1px);height: 1px;margin: -1px;overflow: hidden;padding: 0;position: absolute;width: 1px;}div.sk-estimator {font-family: monospace;background-color: #f0f8ff;margin: 0.25em 0.25em;border: 1px dotted black;border-radius: 0.25em;box-sizing: border-box;}div.sk-estimator:hover {background-color: #d4ebff;}div.sk-parallel-item::after {content: \"\";width: 100%;border-bottom: 1px solid gray;flex-grow: 1;}div.sk-label:hover label.sk-toggleable__label {background-color: #d4ebff;}div.sk-serial::before {content: \"\";position: absolute;border-left: 1px solid gray;box-sizing: border-box;top: 2em;bottom: 0;left: 50%;}div.sk-serial {display: flex;flex-direction: column;align-items: center;background-color: white;}div.sk-item {z-index: 1;}div.sk-parallel {display: flex;align-items: stretch;justify-content: center;background-color: white;}div.sk-parallel-item {display: flex;flex-direction: column;position: relative;background-color: white;}div.sk-parallel-item:first-child::after {align-self: flex-end;width: 50%;}div.sk-parallel-item:last-child::after {align-self: flex-start;width: 50%;}div.sk-parallel-item:only-child::after {width: 0;}div.sk-dashed-wrapped {border: 1px dashed gray;margin: 0.2em;box-sizing: border-box;padding-bottom: 0.1em;background-color: white;position: relative;}div.sk-label label {font-family: monospace;font-weight: bold;background-color: white;display: inline-block;line-height: 1.2em;}div.sk-label-container {position: relative;z-index: 2;text-align: center;}div.sk-container {display: inline-block;position: relative;}</style><div class=\"sk-top-container\"><div class=\"sk-container\"><div class=\"sk-item sk-dashed-wrapped\"><div class=\"sk-label-container\"><div class=\"sk-label sk-toggleable\"><input class=\"sk-toggleable__control sk-hidden--visually\" id=\"91d1d612-8118-4402-8e3e-b1b2b784a3fc\" type=\"checkbox\" ><label class=\"sk-toggleable__label\" for=\"91d1d612-8118-4402-8e3e-b1b2b784a3fc\">Pipeline</label><div class=\"sk-toggleable__content\"><pre>Pipeline(steps=[('svc', SVC(C=1, gamma=0.0001, kernel='linear'))])</pre></div></div></div><div class=\"sk-serial\"><div class=\"sk-item\"><div class=\"sk-estimator sk-toggleable\"><input class=\"sk-toggleable__control sk-hidden--visually\" id=\"e902e010-1b36-4dc9-9e80-75e04cdca327\" type=\"checkbox\" ><label class=\"sk-toggleable__label\" for=\"e902e010-1b36-4dc9-9e80-75e04cdca327\">SVC</label><div class=\"sk-toggleable__content\"><pre>SVC(C=1, gamma=0.0001, kernel='linear')</pre></div></div></div></div></div></div></div>"
      ],
      "text/plain": [
       "Pipeline(steps=[('svc', SVC(C=1, gamma=0.0001, kernel='linear'))])"
      ]
     },
     "execution_count": 63,
     "metadata": {},
     "output_type": "execute_result"
    }
   ],
   "source": [
    "grid.best_estimator_"
   ]
  },
  {
   "cell_type": "code",
   "execution_count": 65,
   "metadata": {},
   "outputs": [
    {
     "name": "stdout",
     "output_type": "stream",
     "text": [
      "              precision    recall  f1-score   support\n",
      "\n",
      "       False       0.96      0.94      0.95      7691\n",
      "        True       0.94      0.96      0.95      7126\n",
      "\n",
      "    accuracy                           0.95     14817\n",
      "   macro avg       0.95      0.95      0.95     14817\n",
      "weighted avg       0.95      0.95      0.95     14817\n",
      "\n"
     ]
    }
   ],
   "source": [
    "# Make predictions with the hypertuned model\n",
    "predictions = grid.predict(tfidf_test)\n",
    "\n",
    "# Calculate classification report\n",
    "from sklearn.metrics import classification_report\n",
    "print(classification_report(y_test, predictions, target_names = [\"False\", \"True\"]))"
   ]
  },
  {
   "cell_type": "code",
   "execution_count": null,
   "metadata": {},
   "outputs": [],
   "source": []
  },
  {
   "cell_type": "markdown",
   "metadata": {},
   "source": [
    "# Check out a few other model types"
   ]
  },
  {
   "cell_type": "code",
   "execution_count": 74,
   "metadata": {},
   "outputs": [
    {
     "name": "stdout",
     "output_type": "stream",
     "text": [
      "accuracy:   0.938\n"
     ]
    }
   ],
   "source": [
    "from sklearn.linear_model import PassiveAggressiveClassifier\n",
    "from sklearn.metrics import accuracy_score\n",
    "\n",
    "linear_clf = PassiveAggressiveClassifier()\n",
    "\n",
    "linear_clf.fit(tfidf_train, y_train)\n",
    "pred = linear_clf.predict(tfidf_test)\n",
    "score = accuracy_score(y_test, pred)\n",
    "print(\"accuracy:   %0.3f\" % score)"
   ]
  },
  {
   "cell_type": "code",
   "execution_count": 77,
   "metadata": {},
   "outputs": [
    {
     "name": "stdout",
     "output_type": "stream",
     "text": [
      "Alpha: 0.00 Score: 0.91132\n",
      "Alpha: 0.10 Score: 0.93285\n",
      "Alpha: 0.20 Score: 0.93487\n",
      "Alpha: 0.30 Score: 0.93528\n",
      "Alpha: 0.40 Score: 0.93501\n",
      "Alpha: 0.50 Score: 0.93453\n",
      "Alpha: 0.60 Score: 0.93460\n",
      "Alpha: 0.70 Score: 0.93420\n",
      "Alpha: 0.80 Score: 0.93386\n",
      "Alpha: 0.90 Score: 0.93359\n"
     ]
    }
   ],
   "source": [
    "from sklearn.naive_bayes import MultinomialNB\n",
    "clf = MultinomialNB(alpha=0.1)\n",
    "\n",
    "last_score = 0\n",
    "for alpha in np.arange(0,1,.1):\n",
    "    nb_classifier = MultinomialNB(alpha=alpha)\n",
    "    nb_classifier.fit(tfidf_train, y_train)\n",
    "    pred = nb_classifier.predict(tfidf_test)\n",
    "    score = accuracy_score(y_test, pred)\n",
    "    if score > last_score:\n",
    "        clf = nb_classifier\n",
    "    print(\"Alpha: {:.2f} Score: {:.5f}\".format(alpha, score))"
   ]
  },
  {
   "cell_type": "markdown",
   "metadata": {},
   "source": [
    "# Most important features in classification"
   ]
  },
  {
   "cell_type": "code",
   "execution_count": 86,
   "metadata": {},
   "outputs": [
    {
     "data": {
      "text/plain": [
       "[(-4.824434878891475, 'trump'),\n",
       " (-4.9664158215827445, 'says'),\n",
       " (-5.463495922186102, 'house'),\n",
       " (-5.805418006096416, 'russia'),\n",
       " (-5.846399288968043, 'north'),\n",
       " (-5.854134233547253, 'korea'),\n",
       " (-5.960795551602371, 'senate'),\n",
       " (-5.990360728482187, 'white'),\n",
       " (-6.014562240980712, 'china'),\n",
       " (-6.053748931513532, 'new')]"
      ]
     },
     "execution_count": 86,
     "metadata": {},
     "output_type": "execute_result"
    }
   ],
   "source": [
    "feature_names = tfidf_vectorizer.get_feature_names()\n",
    "\n",
    "# Print the \"most real\" words\n",
    "sorted(zip(clf.coef_[0], feature_names), reverse=True)[:10]"
   ]
  },
  {
   "cell_type": "code",
   "execution_count": 83,
   "metadata": {},
   "outputs": [
    {
     "name": "stdout",
     "output_type": "stream",
     "text": [
      "False -18.501315869574526 video\n",
      "False -10.183033272142875 breaking\n",
      "False -8.962783978277576 watch\n",
      "False -8.695845982465602 racist\n",
      "False -8.580605081204615 gop\n",
      "False -7.958337354506038 just\n",
      "False -7.615314532855993 hillary\n",
      "False -7.612686163621778 molester\n",
      "False -7.444991607397199 lied\n",
      "False -7.132858458564095 joe\n",
      "False -6.944876361052446 ck\n",
      "False -6.80641834535091 dem\n",
      "False -6.709122419175899 destroy\n",
      "False -6.532911288921217 dumpster\n",
      "False -6.4579459280415525 dems\n",
      "False -6.337858502455757 begs\n",
      "False -6.181717725218552 anonymous\n",
      "False -6.115966363738506 wow\n",
      "False -5.9842729083546065 images\n",
      "False -5.925074557934142 james\n",
      "False -5.872618046718923 illegals\n",
      "False -5.807002449528325 lol\n",
      "False -5.768693183974716 creative\n",
      "False -5.7635075950422126 sharia\n",
      "False -5.637259040804631 boiler\n",
      "False -5.636065224425532 racism\n",
      "False -5.634786524828486 bernie\n",
      "False -5.600816961010544 kkk\n",
      "False -5.569728780953048 ammo\n",
      "False -5.532800040888096 caroline\n",
      "-------------------------\n",
      "True 7.4910269381597265 factbox\n",
      "True 7.347582262845245 blitz\n",
      "True 7.275441794366736 says\n",
      "True 7.181545958866053 exclusive\n",
      "True 6.361749983243785 faults\n",
      "True 6.3567726677435985 frisk\n",
      "True 5.602881339126816 urges\n",
      "True 5.575965709269833 collar\n",
      "True 5.523011995428169 urge\n",
      "True 5.477707966593318 german\n",
      "True 5.434994184456045 talks\n",
      "True 5.400087511006917 hindu\n",
      "True 5.289239339476728 fame\n",
      "True 5.2116428790877976 agencies\n",
      "True 5.0359559978679735 kremlin\n",
      "True 4.988544627037122 turkey\n",
      "True 4.940729916898889 vietnam\n",
      "True 4.925285402634658 assume\n",
      "True 4.913393524403746 dispiriting\n",
      "True 4.82754544015025 filipinos\n",
      "True 4.763217666304443 sanctions\n",
      "True 4.745391026672947 north\n",
      "True 4.728340383366692 opts\n",
      "True 4.713254494958724 fights\n",
      "True 4.708655193943915 japan\n",
      "True 4.698143546644734 reeling\n",
      "True 4.687211872997447 lewd\n",
      "True 4.650807820563867 streamline\n",
      "True 4.647991747507051 spokesman\n",
      "True 4.565192532805617 sahel\n"
     ]
    }
   ],
   "source": [
    "def most_informative_feature(vectorizer, classifier, n=100):\n",
    "    \"\"\"\n",
    "    A function to print the most 'informative' words associated with fake and real news for binary classification.\n",
    "    \"\"\"\n",
    "    class_labels = classifier.classes_\n",
    "    feature_names = vectorizer.get_feature_names()\n",
    "    topn_class1 = sorted(zip(classifier.coef_[0], feature_names))[:n]\n",
    "    topn_class2 = sorted(zip(classifier.coef_[0], feature_names))[-n:]\n",
    "\n",
    "    for coef, feat in topn_class1:\n",
    "        print(class_labels[0], coef, feat)\n",
    "    print('---------------------------------')\n",
    "    for coef, feat in reversed(topn_class2):\n",
    "        print(class_labels[1], coef, feat)\n",
    "\n",
    "\n",
    "most_informative_feature(tfidf_vectorizer, linear_clf, n=30)"
   ]
  },
  {
   "cell_type": "markdown",
   "metadata": {},
   "source": [
    "# Save model/pipeline"
   ]
  },
  {
   "cell_type": "code",
   "execution_count": 24,
   "metadata": {},
   "outputs": [
    {
     "data": {
      "text/plain": [
       "Pipeline(steps=[('tfidfvectorizer',\n",
       "                 TfidfVectorizer(max_df=0.7, stop_words='english')),\n",
       "                ('svc', SVC(gamma=0.0001, kernel='linear'))])"
      ]
     },
     "execution_count": 24,
     "metadata": {},
     "output_type": "execute_result"
    }
   ],
   "source": [
    "from sklearn.pipeline import make_pipeline\n",
    "from sklearn.svm import SVC\n",
    "\n",
    "vectorizer = TfidfVectorizer(stop_words='english', max_df=0.7)\n",
    "model = SVC(C=1.0, kernel='linear', gamma=0.0001)\n",
    "pipeline = make_pipeline(vectorizer, model)\n",
    "\n",
    "pipeline.fit(X_train, y_train)"
   ]
  }
 ],
 "metadata": {
  "kernelspec": {
   "display_name": "Python 3",
   "language": "python",
   "name": "python3"
  },
  "language_info": {
   "codemirror_mode": {
    "name": "ipython",
    "version": 3
   },
   "file_extension": ".py",
   "mimetype": "text/x-python",
   "name": "python",
   "nbconvert_exporter": "python",
   "pygments_lexer": "ipython3",
   "version": "3.7.4"
  }
 },
 "nbformat": 4,
 "nbformat_minor": 2
}
